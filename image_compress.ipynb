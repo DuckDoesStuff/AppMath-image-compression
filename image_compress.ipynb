{
 "cells": [
  {
   "attachments": {},
   "cell_type": "markdown",
   "metadata": {},
   "source": [
    "# Project 1"
   ]
  },
  {
   "attachments": {},
   "cell_type": "markdown",
   "metadata": {},
   "source": [
    "##### Import Numpy"
   ]
  },
  {
   "cell_type": "code",
   "execution_count": null,
   "metadata": {},
   "outputs": [],
   "source": [
    "import numpy as np"
   ]
  },
  {
   "attachments": {},
   "cell_type": "markdown",
   "metadata": {},
   "source": [
    "##### Initialize centroids"
   ]
  },
  {
   "attachments": {},
   "cell_type": "markdown",
   "metadata": {},
   "source": [
    "Initialize centroids in two different ways\n",
    "1. Choose *k* colors\n",
    "2. Choose *k* pixel as centroids"
   ]
  },
  {
   "cell_type": "code",
   "execution_count": null,
   "metadata": {},
   "outputs": [],
   "source": [
    "def centroids_init(img, k, type):\n",
    "    centroids = []\n",
    "    if type == 'random':\n",
    "        centroids = np.random.randint(0, 256, size=(k, img.shape[1]), dtype=np.uint8)\n",
    "    elif type == 'in_pixels':\n",
    "        centroids = img[np.random.choice(img.shape[0], size=k, replace=False)]\n",
    "    return centroids"
   ]
  },
  {
   "attachments": {},
   "cell_type": "markdown",
   "metadata": {},
   "source": [
    "##### Label pixels with centroids"
   ]
  },
  {
   "attachments": {},
   "cell_type": "markdown",
   "metadata": {},
   "source": [
    "For each pixel in the image, we calculate the Manhattan distance to each centroid, then label the pixel with the nearest centroid"
   ]
  },
  {
   "cell_type": "code",
   "execution_count": null,
   "metadata": {},
   "outputs": [],
   "source": [
    "def label_pixels(img, centroids):\n",
    "    # return np.argmin(np.linalg.norm(img[:, np.newaxis] - centroids, axis=2), axis=1)\n",
    "    # using Manhattan distance instead\n",
    "    return np.argmin(np.sum(np.abs(img[:, np.newaxis] - centroids), axis=2), axis=1)"
   ]
  },
  {
   "attachments": {},
   "cell_type": "markdown",
   "metadata": {},
   "source": [
    "##### Recalculate centroids after labeling"
   ]
  },
  {
   "attachments": {},
   "cell_type": "markdown",
   "metadata": {},
   "source": [
    "Recalculate centroids based on image with labeled pixels"
   ]
  },
  {
   "cell_type": "code",
   "execution_count": null,
   "metadata": {},
   "outputs": [],
   "source": [
    "def recalculate_centroids(img, labels, k):\n",
    "    new_centroids = np.zeros((k, 3))\n",
    "    for i in range(k):\n",
    "        # for each pixels in the image labeled as cluster i\n",
    "        pixels = img[labels == i]\n",
    "\n",
    "        # prevent case when there are no pixels in the cluster\n",
    "        if pixels.shape[0]:\n",
    "            new_centroids[i] = np.mean(pixels, axis=0)\n",
    "\n",
    "    # return np.array([np.mean(img[labels == i], axis=0) for i in range(k)])\n",
    "    return new_centroids"
   ]
  },
  {
   "attachments": {},
   "cell_type": "markdown",
   "metadata": {},
   "source": [
    "##### K-Means algorithm"
   ]
  },
  {
   "cell_type": "code",
   "execution_count": null,
   "metadata": {},
   "outputs": [],
   "source": [
    "def kmeans(img, k_clusters, max_iter, init_centroids='random'):\n",
    "    # initialize centroids\n",
    "    centroids = centroids_init(img, k_clusters, init_centroids)\n",
    "    labels = np.full(img.shape[0], -1)\n",
    "\n",
    "    for _ in range(max_iter):\n",
    "        # label each pixel with each centroids\n",
    "        labels = label_pixels(img, centroids)\n",
    "\n",
    "        # recalculate the centroids\n",
    "        new_centroids = recalculate_centroids(img, labels, k_clusters)\n",
    "        \n",
    "        # check if the color is \"good\" enough\n",
    "        if np.allclose(centroids, new_centroids, rtol=8e-3):\n",
    "            break\n",
    "\n",
    "        centroids = new_centroids\n",
    "\n",
    "    return labels, centroids"
   ]
  },
  {
   "attachments": {},
   "cell_type": "markdown",
   "metadata": {},
   "source": [
    "#### Executing K-Means"
   ]
  },
  {
   "attachments": {},
   "cell_type": "markdown",
   "metadata": {},
   "source": [
    "##### Preprocessing image"
   ]
  },
  {
   "cell_type": "code",
   "execution_count": null,
   "metadata": {},
   "outputs": [],
   "source": [
    "from PIL import Image\n",
    "\n",
    "filepath = './images/phong_canh.png'\n",
    "\n",
    "image = Image.open(filepath)\n",
    "img = np.array(image, dtype=int)\n",
    "\n",
    "h, w, c = img.shape\n",
    "image_reshape = img.reshape(h*w, c)"
   ]
  },
  {
   "attachments": {},
   "cell_type": "markdown",
   "metadata": {},
   "source": [
    "##### Some parameters for K-Means algorithm"
   ]
  },
  {
   "cell_type": "code",
   "execution_count": null,
   "metadata": {},
   "outputs": [],
   "source": [
    "k = 7\n",
    "it = 1000\n",
    "init = 'random'"
   ]
  },
  {
   "attachments": {},
   "cell_type": "markdown",
   "metadata": {},
   "source": [
    "##### Runs K-Means"
   ]
  },
  {
   "cell_type": "code",
   "execution_count": null,
   "metadata": {},
   "outputs": [],
   "source": [
    "labels, centroids = kmeans(img=image_reshape, k_clusters=k, max_iter=it, init_centroids=init)"
   ]
  },
  {
   "attachments": {},
   "cell_type": "markdown",
   "metadata": {},
   "source": [
    "##### Postprocessing image"
   ]
  },
  {
   "cell_type": "code",
   "execution_count": null,
   "metadata": {},
   "outputs": [],
   "source": [
    "import matplotlib.pyplot as plt\n",
    "\n",
    "#reconstruct image array from centroids and labels\n",
    "compressed_img = centroids[labels].reshape((h, w, c)).astype(np.uint8)\n",
    "#construct an image from the image array\n",
    "compressed_image = Image.fromarray(compressed_img)"
   ]
  },
  {
   "attachments": {},
   "cell_type": "markdown",
   "metadata": {},
   "source": [
    "##### Show image before and after"
   ]
  },
  {
   "cell_type": "code",
   "execution_count": null,
   "metadata": {},
   "outputs": [],
   "source": [
    "fig, axes = plt.subplots(1, 2, figsize=(20, 10))\n",
    "\n",
    "axes[0].imshow(image)\n",
    "axes[0].axis('off')\n",
    "axes[0].set_title('Before')\n",
    "\n",
    "axes[1].imshow(compressed_image)\n",
    "axes[1].axis('off')\n",
    "axes[1].set_title('After')\n",
    "\n",
    "plt.tight_layout()\n",
    "plt.show()"
   ]
  },
  {
   "attachments": {},
   "cell_type": "markdown",
   "metadata": {},
   "source": [
    "##### Export image"
   ]
  },
  {
   "cell_type": "code",
   "execution_count": null,
   "metadata": {},
   "outputs": [],
   "source": [
    "import os\n",
    "filename = os.path.splitext(os.path.basename(filepath))[0]\n",
    "output_file = filename + '_k' + str(k) + '.png'\n",
    "\n",
    "# export image to file\n",
    "compressed_image.save(output_file)"
   ]
  }
 ],
 "metadata": {
  "kernelspec": {
   "display_name": "Python 3",
   "language": "python",
   "name": "python3"
  },
  "language_info": {
   "codemirror_mode": {
    "name": "ipython",
    "version": 3
   },
   "file_extension": ".py",
   "mimetype": "text/x-python",
   "name": "python",
   "nbconvert_exporter": "python",
   "pygments_lexer": "ipython3",
   "version": "3.11.3"
  },
  "orig_nbformat": 4
 },
 "nbformat": 4,
 "nbformat_minor": 2
}
