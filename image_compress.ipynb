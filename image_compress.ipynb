{
 "cells": [
  {
   "cell_type": "code",
   "execution_count": 24,
   "metadata": {},
   "outputs": [],
   "source": [
    "import numpy as np\n",
    "import matplotlib.pyplot as plt\n",
    "import PIL\n",
    "import time\n",
    "\n",
    "def centroids_init(img, k_clusters, type):\n",
    "    centroids = []\n",
    "    if type == 'random':\n",
    "        centroids = np.random.randint(0, 256, size=(k_clusters, img.shape[1]), dtype=np.uint8)\n",
    "    elif type == 'in_pixels':\n",
    "        centroids = img[np.random.choice(img.shape[0], size=k_clusters, replace=False)]\n",
    "    return centroids\n",
    "\n",
    "\n",
    "def label_pixels(img, centroids):\n",
    "    # return np.argmin(np.linalg.norm(img[:, np.newaxis] - centroids, axis=2), axis=1)\n",
    "    # using Manhattan distance instead\n",
    "    return np.argmin(np.sum(np.abs(img[:, np.newaxis] - centroids), axis=2), axis=1)\n",
    "\n",
    "\n",
    "def recalculate_centroids(img, labels, k):\n",
    "    new_centroids = np.zeros((k, 3))\n",
    "    for i in range(k):\n",
    "        # for each pixels in the image labeled as cluster i\n",
    "        pixels = img[labels == i]\n",
    "\n",
    "        # prevent case when there are no pixels in the cluster\n",
    "        if pixels.shape[0]:\n",
    "            new_centroids[i] = np.mean(pixels, axis=0)\n",
    "\n",
    "    # return np.array([np.mean(img[labels == i], axis=0) for i in range(k)])\n",
    "    return new_centroids\n",
    "\n",
    "\n",
    "def kmeans(img, k_clusters, max_iter, init_centroids='random'):\n",
    "    # initialize centroids\n",
    "    centroids = centroids_init(img, k_clusters, init_centroids)\n",
    "    labels = np.full(img.shape[0], -1)\n",
    "\n",
    "    for _ in range(max_iter):\n",
    "        # label each pixel with each centroids\n",
    "        labels = label_pixels(img, centroids)\n",
    "\n",
    "        # recalculate the centroids\n",
    "        new_centroids = recalculate_centroids(img, labels, k_clusters)\n",
    "        \n",
    "        # check if the color is \"good\" enough\n",
    "        if np.allclose(centroids, new_centroids, rtol=8e-3):\n",
    "            break\n",
    "\n",
    "        centroids = new_centroids\n",
    "\n",
    "    return labels, centroids"
   ]
  },
  {
   "attachments": {},
   "cell_type": "markdown",
   "metadata": {},
   "source": [
    "**Input file path and K-Means parameters**"
   ]
  },
  {
   "cell_type": "code",
   "execution_count": 27,
   "metadata": {},
   "outputs": [],
   "source": [
    "filepath = './images/phong_canh.png'\n",
    "k = 7\n",
    "it = 1000\n",
    "init = 'random'\n",
    "\n",
    "image = PIL.Image.open(filepath)\n",
    "img = np.array(image, dtype=int)\n",
    "\n",
    "h, w, c = img.shape\n",
    "image_reshape = img.reshape(h*w, c)"
   ]
  },
  {
   "cell_type": "code",
   "execution_count": 35,
   "metadata": {},
   "outputs": [],
   "source": [
    "labels, centroids = kmeans(img=image_reshape, k_clusters=k, max_iter=it, init_centroids=init)"
   ]
  },
  {
   "attachments": {},
   "cell_type": "markdown",
   "metadata": {},
   "source": [
    "**Reconstruct image**"
   ]
  },
  {
   "cell_type": "code",
   "execution_count": null,
   "metadata": {},
   "outputs": [],
   "source": [
    "#reconstruct image array from centroids and labels\n",
    "compressed_img = centroids[labels].reshape((h, w, c)).astype(np.uint8)\n",
    "#construct an image from the image array\n",
    "compressed_image = PIL.Image.fromarray(compressed_img)\n",
    "\n",
    "fig, axes = plt.subplots(1, 2, figsize=(20, 10))\n",
    "\n",
    "axes[0].imshow(image)\n",
    "axes[0].axis('off')\n",
    "axes[0].set_title('Before')\n",
    "\n",
    "axes[1].imshow(compressed_image)\n",
    "axes[1].axis('off')\n",
    "axes[1].set_title('After')\n",
    "\n",
    "plt.tight_layout()\n",
    "plt.show()"
   ]
  },
  {
   "attachments": {},
   "cell_type": "markdown",
   "metadata": {},
   "source": [
    "**Runs K-Means multiple times for more accurate runtime results**"
   ]
  },
  {
   "cell_type": "code",
   "execution_count": null,
   "metadata": {},
   "outputs": [],
   "source": [
    "execution_times = []\n",
    "\n",
    "for _ in range(10):\n",
    "    start_time = time.time()\n",
    "    labels, centroids = kmeans(img=image_reshape, k_clusters=k, max_iter=it, init_centroids=init)\n",
    "    end_time = time.time()\n",
    "    execution_time = end_time - start_time\n",
    "    execution_times.append(execution_time)\n",
    "    \n",
    "plt.plot(execution_times)\n",
    "plt.xlabel('Iteration')\n",
    "plt.ylabel('Execution Time (seconds)')\n",
    "plt.title('Execution Time of My Code Snippet')\n",
    "plt.show()"
   ]
  },
  {
   "cell_type": "code",
   "execution_count": null,
   "metadata": {},
   "outputs": [],
   "source": [
    "# tests done with donut image\n",
    "#1: 1m3.3s, k=7 (with unique colors)\n",
    "#2: 42.4s, k=7 (without unique colors)\n",
    "#4: 1m20s, k=7 (euclidean, without unique colors)\n",
    "#4: ~5s, k=7 (using scikit learn Kmeans)\n",
    "\n",
    "# some conclusions:\n",
    "# for images that doesn't have many colors, we can use unique colors to speed up the process\n",
    "# but generally this is a bad idea\n",
    "# euclidean is much slower"
   ]
  },
  {
   "cell_type": "code",
   "execution_count": null,
   "metadata": {},
   "outputs": [],
   "source": [
    "from sklearn.cluster import KMeans\n",
    "\n",
    "# Example data\n",
    "h, w, c = image.height, image.width, len(image.getbands())\n",
    "data = np.reshape(image, (h*w, c))\n",
    "\n",
    "# Create a KMeans object\n",
    "kmeans = KMeans(n_clusters=12, random_state=0, max_iter=1000, init='random')\n",
    "\n",
    "# Fit the data to the KMeans model\n",
    "kmeans.fit(data)\n",
    "\n",
    "# Get the cluster labels assigned to each data point\n",
    "labels = kmeans.labels_\n",
    "\n",
    "# Get the cluster centers\n",
    "centroids = kmeans.cluster_centers_\n",
    "\n",
    "compressed_img = centroids[labels].reshape((h, w, c)).astype(np.uint8)\n",
    "\n",
    "# Convert numpy array back to PIL Image\n",
    "compressed_image = PIL.Image.fromarray(compressed_img)\n",
    "\n",
    "plt.axis('off')\n",
    "plt.imshow(compressed_image);"
   ]
  }
 ],
 "metadata": {
  "kernelspec": {
   "display_name": "Python 3",
   "language": "python",
   "name": "python3"
  },
  "language_info": {
   "codemirror_mode": {
    "name": "ipython",
    "version": 3
   },
   "file_extension": ".py",
   "mimetype": "text/x-python",
   "name": "python",
   "nbconvert_exporter": "python",
   "pygments_lexer": "ipython3",
   "version": "3.11.3"
  },
  "orig_nbformat": 4
 },
 "nbformat": 4,
 "nbformat_minor": 2
}
