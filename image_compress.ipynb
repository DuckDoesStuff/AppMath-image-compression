{
 "cells": [
  {
   "cell_type": "code",
   "execution_count": null,
   "metadata": {},
   "outputs": [],
   "source": [
    "import numpy as np\n",
    "import matplotlib.pyplot as plt\n",
    "import PIL \n",
    "import time\n",
    "\n",
    "def kmeans(img, k_clusters, max_iter, init_centroids='random'):\n",
    "    # centroids init\n",
    "    cache = img[:, np.newaxis]\n",
    "    centroids = []\n",
    "    if init_centroids == 'random':\n",
    "        centroids = np.reshape([np.random.choice(range(0, 255), size=3) for _ in range(k_clusters)], (k_clusters, 3))\n",
    "    else:\n",
    "        unique_colors = np.unique(img, axis=0)\n",
    "        centroids = unique_colors[np.random.choice(unique_colors.shape[0], size=k_clusters, replace=False)]\n",
    "        # centroids = img[np.random.choice(img.shape[0], size=k_clusters, replace=False)]\n",
    "\n",
    "\n",
    "    for _ in range(max_iter):\n",
    "        #using Manhattan distance instead\n",
    "        labels = np.argmin(np.sum(np.abs(cache - centroids), axis=2), axis=1)\n",
    "\n",
    "        # recalculate the centroids\n",
    "        new_centroids = np.asanyarray([np.mean(img[labels == i, :], axis=0) for i in range(k_clusters)])\n",
    "\n",
    "        if np.all(centroids == new_centroids):\n",
    "            break\n",
    "\n",
    "        centroids = new_centroids\n",
    "\n",
    "    return labels, centroids"
   ]
  },
  {
   "attachments": {},
   "cell_type": "markdown",
   "metadata": {},
   "source": [
    "**Input file path and K-Means parameters**"
   ]
  },
  {
   "cell_type": "code",
   "execution_count": null,
   "metadata": {},
   "outputs": [],
   "source": [
    "filepath = input(\"Enter image path: \")\n",
    "k = int(input(\"Enter k_clusters: \"))\n",
    "it = int(input(\"Enter max_iter: \"))\n",
    "init = input(\"Choose init method: \")\n",
    "\n",
    "image = PIL.Image.open(filepath)\n",
    "img = np.array(image, dtype=int)\n",
    "\n",
    "h, w, c = img.shape\n",
    "image_reshape = img.reshape(h*w, c)"
   ]
  },
  {
   "cell_type": "code",
   "execution_count": null,
   "metadata": {},
   "outputs": [],
   "source": [
    "labels, centroids = kmeans(img=image_reshape, k_clusters=k, max_iter=it, init_centroids=init)"
   ]
  },
  {
   "attachments": {},
   "cell_type": "markdown",
   "metadata": {},
   "source": [
    "**Reconstruct image**"
   ]
  },
  {
   "cell_type": "code",
   "execution_count": null,
   "metadata": {},
   "outputs": [],
   "source": [
    "#reconstruct image array from centroids and labels\n",
    "compressed_img = centroids[labels].reshape((h, w, c)).astype(np.uint8)\n",
    "#construct an image from the image array\n",
    "compressed_image = PIL.Image.fromarray(compressed_img)\n",
    "\n",
    "fig, axes = plt.subplots(1, 2, figsize=(20, 10))\n",
    "\n",
    "axes[0].imshow(image)\n",
    "axes[0].axis('off')\n",
    "axes[0].set_title('Before')\n",
    "\n",
    "axes[1].imshow(compressed_image)\n",
    "axes[1].axis('off')\n",
    "axes[1].set_title('After')\n",
    "\n",
    "plt.tight_layout()\n",
    "plt.show()"
   ]
  },
  {
   "attachments": {},
   "cell_type": "markdown",
   "metadata": {},
   "source": [
    "**Runs K-Means multiple times for more accurate runtime results**"
   ]
  },
  {
   "cell_type": "code",
   "execution_count": null,
   "metadata": {},
   "outputs": [],
   "source": [
    "execution_times = []\n",
    "\n",
    "for _ in range(10):\n",
    "    start_time = time.time()\n",
    "    labels, centroids = kmeans(img=image_reshape, k_clusters=k, max_iter=it, init_centroids=init)\n",
    "    end_time = time.time()\n",
    "    execution_time = end_time - start_time\n",
    "    execution_times.append(execution_time)\n",
    "    \n",
    "plt.plot(execution_times)\n",
    "plt.xlabel('Iteration')\n",
    "plt.ylabel('Execution Time (seconds)')\n",
    "plt.title('Execution Time of My Code Snippet')\n",
    "plt.show()"
   ]
  },
  {
   "cell_type": "code",
   "execution_count": null,
   "metadata": {},
   "outputs": [],
   "source": [
    "# tests done with donut image\n",
    "#1: 1m3.3s, k=7 (with unique colors)\n",
    "#2: 42.4s, k=7 (without unique colors)\n",
    "#4: 1m20s, k=7 (euclidean, without unique colors)\n",
    "#4: ~5s, k=7 (using scikit learn Kmeans)\n",
    "\n",
    "# some conclusions:\n",
    "# for images that doesn't have many colors, we can use unique colors to speed up the process\n",
    "# but generally this is a bad idea\n",
    "# euclidean is much slower"
   ]
  },
  {
   "cell_type": "code",
   "execution_count": null,
   "metadata": {},
   "outputs": [],
   "source": [
    "from sklearn.cluster import KMeans\n",
    "\n",
    "# Example data\n",
    "h, w, c = image.height, image.width, len(image.getbands())\n",
    "data = np.reshape(image, (h*w, c))\n",
    "\n",
    "# Create a KMeans object\n",
    "kmeans = KMeans(n_clusters=12, random_state=0, max_iter=1000, init='random')\n",
    "\n",
    "# Fit the data to the KMeans model\n",
    "kmeans.fit(data)\n",
    "\n",
    "# Get the cluster labels assigned to each data point\n",
    "labels = kmeans.labels_\n",
    "\n",
    "# Get the cluster centers\n",
    "centroids = kmeans.cluster_centers_\n",
    "\n",
    "compressed_img = centroids[labels].reshape((h, w, c)).astype(np.uint8)\n",
    "\n",
    "# Convert numpy array back to PIL Image\n",
    "compressed_image = PIL.Image.fromarray(compressed_img)\n",
    "\n",
    "plt.axis('off')\n",
    "plt.imshow(compressed_image);"
   ]
  }
 ],
 "metadata": {
  "kernelspec": {
   "display_name": "Python 3",
   "language": "python",
   "name": "python3"
  },
  "language_info": {
   "codemirror_mode": {
    "name": "ipython",
    "version": 3
   },
   "file_extension": ".py",
   "mimetype": "text/x-python",
   "name": "python",
   "nbconvert_exporter": "python",
   "pygments_lexer": "ipython3",
   "version": "3.11.3"
  },
  "orig_nbformat": 4
 },
 "nbformat": 4,
 "nbformat_minor": 2
}
